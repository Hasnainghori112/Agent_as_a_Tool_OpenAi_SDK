{
  "nbformat": 4,
  "nbformat_minor": 0,
  "metadata": {
    "colab": {
      "provenance": [],
      "authorship_tag": "ABX9TyNo1XsGTk3nwjMQIhINJLUE",
      "include_colab_link": true
    },
    "kernelspec": {
      "name": "python3",
      "display_name": "Python 3"
    },
    "language_info": {
      "name": "python"
    }
  },
  "cells": [
    {
      "cell_type": "markdown",
      "metadata": {
        "id": "view-in-github",
        "colab_type": "text"
      },
      "source": [
        "<a href=\"https://colab.research.google.com/github/Hasnainghori112/Agent_as_a_Tool_OpenAi_SDK/blob/main/Agent_as_tool.ipynb\" target=\"_parent\"><img src=\"https://colab.research.google.com/assets/colab-badge.svg\" alt=\"Open In Colab\"/></a>"
      ]
    },
    {
      "cell_type": "code",
      "execution_count": 1,
      "metadata": {
        "collapsed": true,
        "id": "01_p56IUOTmX"
      },
      "outputs": [],
      "source": [
        "!pip install -Uq openai-agents\n",
        "!pip install -Uq openai-agents \"openai-agents[litellm]\""
      ]
    },
    {
      "cell_type": "code",
      "source": [
        "import nest_asyncio\n",
        "nest_asyncio.apply()\n"
      ],
      "metadata": {
        "id": "fXq3pC9fQfZ0"
      },
      "execution_count": 2,
      "outputs": []
    },
    {
      "cell_type": "code",
      "source": [
        "from agents import Agent , Runner , set_tracing_disabled\n",
        "from openai.types.responses import ResponseTextDeltaEvent\n",
        "\n",
        "from agents.extensions.models.litellm_model import LitellmModel\n",
        "set_tracing_disabled(True)\n",
        "\n",
        "MODEL = \"gemini/gemini-2.0-flash\"\n"
      ],
      "metadata": {
        "id": "Qk9lamKvQLfl"
      },
      "execution_count": 3,
      "outputs": []
    },
    {
      "cell_type": "code",
      "source": [
        "from google.colab import userdata\n",
        "import os\n",
        "api_key = os.environ[\"GOOGLE_API_KEY\"] = userdata.get('GOOGLE_API_KEY')\n",
        "\n"
      ],
      "metadata": {
        "id": "aS6FHZZ9P54f"
      },
      "execution_count": 4,
      "outputs": []
    },
    {
      "cell_type": "code",
      "source": [
        "mood_tracker = Agent(\n",
        "    name=\"Mood_Tracker\",\n",
        "    instructions=(\n",
        "       \"You are a gentle and empathetic mental health assistant. \"\n",
        "        \"Begin each conversation with: 'Hi! How are you feeling today? I’m here to support you with care.' \"\n",
        "        \"Once the user responds, analyze their input and summarize their mood in 1-2 words (e.g., 'happy' 😊, 'tired' 😴, 'anxious' 😟, 'motivated' 💪). \"\n",
        "        \"If the response is vague (e.g., 'I don’t know') or non-emotional (e.g., 'Fine'), default to 'uncertain' 🤔. \"\n",
        "        \"Your tone must be warm, non-judgmental, and encouraging (e.g., 'It sounds like you’re feeling...'). \"\n",
        "        \"End with a supportive sentence: 'Thanks for sharing, I’m here for you.'\"\n",
        "    ),\n",
        "    model=LitellmModel(model=MODEL,api_key=api_key)\n",
        ")\n",
        "\n",
        "motivation_agent = Agent(\n",
        "    name=\"Motivation_Agent\",\n",
        "    instructions=(\n",
        "       \"You are a motivational coach delivering daily energy with fresh, powerful language. \"\n",
        "        \"For the user’s mood (passed as `user_mood`), provide:\\n\"\n",
        "        \"1. A bold 3-word motivational phrase (e.g., 'Rise. Rest. Renew.' for tired, 'Charge. Conquer. Shine.' for energized).\\n\"\n",
        "        \"2. A short uplifting message (max 20 words) inspiring the user like a warrior, tailored to `user_mood`. \"\n",
        "        \"Avoid clichés (e.g., no 'reach for the stars'). Reject messages over 20 words and retry with a shorter version. \"\n",
        "        \"Ensure the tone is empowering and unique.\"\n",
        "    ),\n",
        "    model=LitellmModel(model=MODEL,api_key=api_key)\n",
        ")\n",
        "\n",
        "\n",
        "focus_planner = Agent(\n",
        "    name=\"Focus_Planner\",\n",
        "    instructions=(\n",
        "       \"You are a personalized productivity coach. \"\n",
        "        \"Using the user’s mood (passed as `user_mood`, e.g., 'energized', 'anxious', 'tired', 'focused'), create a gentle day plan. \"\n",
        "        \"Divide into Morning, Afternoon, and Evening. Suggest 1-2 activities per section (e.g., '15-min stretch', '30-min work', 'meditation'), \"\n",
        "        \"including work, breaks, and mental rest. If `user_mood` is missing, assume 'neutral'. \"\n",
        "        \"For low moods (e.g., 'tired', 'anxious'), keep it light and restorative. For productive moods (e.g., 'focused'), be firm but kind. \"\n",
        "        \"Always balance effort and rest. Output format: 'Morning: [activity], [activity]; Afternoon: [activity], [activity]; Evening: [activity].'\"\n",
        "    ),\n",
        "    model=LitellmModel(model=MODEL,api_key=api_key)\n",
        ")\n",
        "\n",
        "#``````````````````````````````````````````````````````AGENTS AS A TOOLS``````````````````````````````````````````````````````````````````````````````````````````\n",
        "# Define MoodTracker tool\n",
        "mood_tracker_tool = mood_tracker.as_tool(\n",
        "    tool_name=\"track_mood\",  \\\n",
        "    tool_description=(\n",
        "        \"Engages the user with a caring question to identify their emotional state. \"\n",
        "        \"Returns a 1-2 word mood summary with an emoji, enhancing self-awareness.\"\n",
        "    )\n",
        ")\n",
        "\n",
        "# Define MotivationAgent tool\n",
        "motivation_agent_tool = motivation_agent.as_tool(\n",
        "    tool_name=\"provide_motivation\",\n",
        "    tool_description=(\n",
        "        \"Delivers a tailored 3-word phrase and a <20-word uplifting message based on the user’s mood, \"\n",
        "        \"inspiring them with warrior-like energy.\"\n",
        "    )\n",
        ")\n",
        "\n",
        "# Define FocusPlanner tool\n",
        "focus_planner_tool = focus_planner.as_tool(\n",
        "    tool_name=\"plan_focused_day\",\n",
        "    tool_description=(\n",
        "       \"Generates a personalized day plan (Morning, Afternoon, Evening) based on the user’s mood, \"\n",
        "        \"balancing productivity and rest with specific activities.\"\n",
        "    )\n",
        ")\n",
        "\n",
        "\n",
        "#Define Orchestrator Agent\n",
        "orchestrator_agent = Agent(\n",
        "    name=\"Orchestrator_Agent\",\n",
        "    instructions=(\n",
        "        \"You are a highly organized, empathetic personal assistant managing the user’s mental fitness routine. \"\n",
        "        \"Guide the user through three steps using the tools, passing `user_mood` between steps:\\n\\n\"\n",
        "        \"1. **Mood Check**: Use **track_mood** to ask, 'Hi! How are you feeling today? I’m here to support you with care.' \"\n",
        "        \"Extract and store the mood as `user_mood` (e.g., 'tired' 😴). If unclear, use 'uncertain' 🤔.\\n\"\n",
        "        \"2. **Motivation Boost**: Use **provide_motivation** with `user_mood` to deliver a 3-word phrase and <20-word message. \"\n",
        "        \"Ensure it’s fresh, empowering, and mood-aligned (e.g., 'Rise. Rest. Renew.' for tired). Retry if over 20 words.\\n\"\n",
        "        \"3. **Focus Plan**: Use **plan_focused_day** with `user_mood` to create a plan in the format 'Morning: [activity], [activity]; ...'. \"\n",
        "        \"Adjust tone and activities based on `user_mood` (light for low, firm for productive). Balance effort and rest.\\n\\n\"\n",
        "        \"Maintain a supportive, guiding tone. If a tool fails, say: 'Sorry, let’s move to the next step.' \"\n",
        "        \"Ensure smooth transitions and avoid overwhelming the user. Use tools as required.\"\n",
        "        \"if the user asked irelavant question them says sorry i have no idea and tell them what you here\"\n",
        "    ),\n",
        "    model=LitellmModel(model=MODEL,api_key=api_key),\n",
        "    tools=[mood_tracker_tool, motivation_agent_tool, focus_planner_tool]\n",
        ")\n",
        "\n",
        "async def main():\n",
        "    while True:\n",
        "        user_input = input(\"\")\n",
        "\n",
        "        if user_input.lower() in [\"exit\", \"quit\"]:\n",
        "            print(\"👋 Goodbye! Take care. 💚\")\n",
        "            break\n",
        "\n",
        "        response = Runner.run_streamed(orchestrator_agent, user_input)\n",
        "        async for event in response.stream_events():\n",
        "          if event.type == \"raw_response_event\" and isinstance(event.data, ResponseTextDeltaEvent):\n",
        "             print(event.data.delta, end=\"\", flush=True)\n",
        "        # print(response.final_output)\n",
        "\n",
        "\n",
        "# Run the loop\n",
        "await main()\n"
      ],
      "metadata": {
        "colab": {
          "base_uri": "https://localhost:8080/"
        },
        "id": "q86OumU_SUQ3",
        "outputId": "fb53e5dc-31ee-46e4-fe68-5610eeb5b052"
      },
      "execution_count": null,
      "outputs": [
        {
          "output_type": "stream",
          "name": "stdout",
          "text": [
            "hi\n",
            "Hi! How are you feeling today? I’m here to support you with care.\n",
            "hello\n",
            "Hi! How are you feeling today? I’m here to support you with care.\n",
            "i want to daily routine\n",
            "Okay, I can help you with that! Let's start with a quick mood check.\n",
            "\n",
            "**Mood Check:**\n",
            "Hi! How are you feeling today? I’m here to support you with care.\n",
            "i am very good mood\n",
            "Okay, let's get started! I'm here to support you.\n",
            "\n",
            "First, let's check in on your mood.\n",
            "\n",
            "Great! Since you said you're in a very good mood, let's carry that positivity forward. Now, let's get you a little motivation boost to keep that good mood going.\n",
            "\n",
            "Fantastic! \"Ignite. Thrive. Radiate.\" Harness this powerful energy; let your brilliance illuminate every path you take today.\n",
            "\n",
            "Now that we've got your mood tracked and motivation soaring, let's craft a plan for your day to keep you focused and balanced.\n",
            "\n",
            "Sorry, let’s move to the next step. I seem to be having a little trouble. \n",
            "Based on your very good mood, let's make a plan for your day. How about this:\n",
            "\n",
            "Morning: Enjoy a brisk walk, listen to your favorite music; Afternoon: Tackle a challenging project, connect with a friend; Evening: Relax with a good book, practice gratitude.\n",
            "\n",
            "Remember, I'm here to support you. Let me know if you need anything else!\n"
          ]
        }
      ]
    }
  ]
}